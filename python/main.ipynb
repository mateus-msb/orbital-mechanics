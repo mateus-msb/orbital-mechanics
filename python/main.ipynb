{
 "cells": [
  {
   "cell_type": "markdown",
   "metadata": {},
   "source": [
    "Import Packages"
   ]
  },
  {
   "cell_type": "code",
   "execution_count": 1,
   "metadata": {},
   "outputs": [],
   "source": [
    "import orbit\n",
    "from satellite import Satellite\n",
    "import numpy as np\n",
    "from scipy.integrate import ode, DOP853\n",
    "import matplotlib.pyplot as plt\n",
    "from dynamics import equation_of_motion"
   ]
  },
  {
   "cell_type": "markdown",
   "metadata": {},
   "source": [
    "Initialize Orbit using one of the following methods:\n",
    "- Classical Elements\n",
    "- State Vector\n",
    "\n",
    "If necessary, implement the conversion to State Vector for the following:\n",
    "- Delaunay Elements\n",
    "- Equinoctial Elements\n",
    "\n",
    "These functionalities should be added from the Orbit abstract class in orbit.py"
   ]
  },
  {
   "cell_type": "code",
   "execution_count": 2,
   "metadata": {},
   "outputs": [
    {
     "name": "stdout",
     "output_type": "stream",
     "text": [
      "Initial condition\n",
      "Position: [2075.13813018 1034.07135414 5995.42297169]\n",
      "Velocity: [-5.00310908 -5.47723189  2.73043656]\n",
      "\n",
      "State Vector: [ 2.07513813e+03  1.03407135e+03  5.99542297e+03 -5.00310908e+00\n",
      " -5.47723189e+00  2.73043656e+00]\n",
      "\n",
      "Using atmospheric drag.\n"
     ]
    }
   ],
   "source": [
    "# Input variables into Orbit class from classical \n",
    "# orbital elements or position and velocity\n",
    "a  = 6378 + 100\n",
    "e  = 0.01\n",
    "i  = 97\n",
    "w  = 30\n",
    "RA = 45\n",
    "TA = 40\n",
    "\n",
    "orbit0 = orbit.OrbitElements(a,e,i,w,RA,TA)\n",
    "R, mu = orbit0.get_central_body() # Get central body according to orbit\n",
    "orbit0.activate_perturbation([\"Drag\"])  # Select perturbations\n",
    "\n",
    "sat0 = Satellite()                # Satellite in orbit"
   ]
  },
  {
   "cell_type": "markdown",
   "metadata": {},
   "source": [
    "Simulation set up"
   ]
  },
  {
   "cell_type": "code",
   "execution_count": 3,
   "metadata": {},
   "outputs": [],
   "source": [
    "# Define simulation time\n",
    "t0        = 0\n",
    "time_end  = 24*3600\n",
    "step      = 1\n",
    "times     = np.arange(0,time_end,step=step)"
   ]
  },
  {
   "cell_type": "markdown",
   "metadata": {},
   "source": [
    "Linear Control"
   ]
  },
  {
   "cell_type": "code",
   "execution_count": 4,
   "metadata": {},
   "outputs": [],
   "source": [
    "# Tune control law used\n",
    "Kp = 0\n",
    "Ki = 0\n",
    "Kd = 0"
   ]
  },
  {
   "cell_type": "markdown",
   "metadata": {},
   "source": [
    "Simulation"
   ]
  },
  {
   "cell_type": "code",
   "execution_count": 5,
   "metadata": {},
   "outputs": [
    {
     "name": "stderr",
     "output_type": "stream",
     "text": [
      "/home/msb/Codes/PY/orbital-mechanics/env/lib/python3.10/site-packages/scipy/integrate/_ode.py:431: UserWarning: dop853: step size becomes too small\n",
      "  self._y, self.t = mth(self.f, self.jac or (lambda: None),\n"
     ]
    }
   ],
   "source": [
    "# Simulate orbit\n",
    "solver  = ode(equation_of_motion)\n",
    "solver.set_integrator('DOP853')\n",
    "solver.set_f_params(orbit0,sat0)\n",
    "solver.set_initial_value(orbit0.initial_state,t0)\n",
    "\n",
    "X=[];Y=[];Z=[];Vx=[];Vy=[];Vz=[]\n",
    "\n",
    "for time in times:\n",
    "    solver.integrate(time)\n",
    "    X.append(solver.y[0])\n",
    "    Y.append(solver.y[1])\n",
    "    Z.append(solver.y[2])\n",
    "    Vx.append(solver.y[3])\n",
    "    Vy.append(solver.y[4])\n",
    "    Vz.append(solver.y[5])\n",
    "\n",
    "\n"
   ]
  },
  {
   "cell_type": "code",
   "execution_count": null,
   "metadata": {},
   "outputs": [],
   "source": [
    "# Plot graphics and return coordinates in ECI frame\n",
    "graph = plt.figure(1)\n",
    "plt.subplot(311)\n",
    "plt.plot(times/3600,X,label='X')\n",
    "plt.ylim([-7_000,7_000])\n",
    "plt.legend()\n",
    "\n",
    "plt.subplot(312)\n",
    "plt.plot(times/3600,Y,label='Y')\n",
    "plt.ylim([-7_000,7_000])\n",
    "plt.ylabel(\"Position (km)\")\n",
    "plt.legend()\n",
    "\n",
    "plt.subplot(313)\n",
    "plt.plot(times/3600,Z,label='Z')\n",
    "plt.ylim([-7_000,7_000])\n",
    "plt.xlabel(\"Time (h)\")\n",
    "plt.legend()\n",
    "\n",
    "altitude = plt.figure(2)\n",
    "alt = [np.sqrt(X[i]**2+Y[i]**2+Z[i]**2) for i in range(len(times))]\n",
    "plt.plot(times/3600,alt,label='Altitude')\n",
    "plt.legend()\n",
    "\n",
    "tri = plt.figure(3)\n",
    "ax = tri.add_subplot(111,projection='3d')\n",
    "ax.plot(X,Y,Z, label='3D')\n",
    "ax.set_xlim((-7000,7000))\n",
    "ax.set_ylim((-7000,7000))\n",
    "ax.set_zlim((-7000,7000))\n",
    "ax.legend()\n",
    "\n",
    "plt.show()\n"
   ]
  }
 ],
 "metadata": {
  "kernelspec": {
   "display_name": "env",
   "language": "python",
   "name": "python3"
  },
  "language_info": {
   "codemirror_mode": {
    "name": "ipython",
    "version": 3
   },
   "file_extension": ".py",
   "mimetype": "text/x-python",
   "name": "python",
   "nbconvert_exporter": "python",
   "pygments_lexer": "ipython3",
   "version": "3.10.12"
  }
 },
 "nbformat": 4,
 "nbformat_minor": 2
}
